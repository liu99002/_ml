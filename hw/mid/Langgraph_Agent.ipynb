{
 "cells": [
  {
   "cell_type": "code",
   "execution_count": 6,
   "id": "5f9ac3e4",
   "metadata": {},
   "outputs": [],
   "source": [
    "import os\n",
    "from dotenv import load_dotenv\n",
    "load_dotenv()  # 讀取 .env 檔案\n",
    "api_key = os.getenv(\"GOOGLE_API_KEY\")\n",
    "Mongo_url = os.getenv(\"MONGO_URI\")\n",
    "Database_Name = os.getenv(\"Database_Name\")\n",
    "Collection_Name = os.getenv(\"Collection_Name\")"
   ]
  },
  {
   "cell_type": "code",
   "execution_count": 7,
   "id": "29422dac",
   "metadata": {},
   "outputs": [],
   "source": [
    "from langchain_mcp_adapters.client import MultiServerMCPClient\n",
    "\n",
    "client = MultiServerMCPClient(\n",
    "    {\n",
    "        \"eveng\": {\n",
    "            \"transport\": \"streamable_http\",\n",
    "            \"url\": \"http://127.0.0.1:4200/my-custom-path/\"\n",
    "        },\n",
    "    }\n",
    ")\n",
    "\n",
    "tools = await client.get_tools()"
   ]
  },
  {
   "cell_type": "code",
   "execution_count": 8,
   "id": "50642b31",
   "metadata": {},
   "outputs": [],
   "source": [
    "from langchain_google_genai import ChatGoogleGenerativeAI\n",
    "\n",
    "llm = ChatGoogleGenerativeAI(\n",
    "    model= \"gemini-2.5-flash-preview-05-20\",\n",
    "    temperature=1.0,\n",
    "    max_retries=2,\n",
    "    google_api_key=api_key,\n",
    ")\n",
    "\n",
    "model = llm.bind_tools(tools)"
   ]
  },
  {
   "cell_type": "code",
   "execution_count": null,
   "id": "3f4274d6",
   "metadata": {},
   "outputs": [
    {
     "name": "stdout",
     "output_type": "stream",
     "text": [
      "================================\u001b[1m Human Message \u001b[0m=================================\n",
      "\n",
      "我叫甚麼名字\n",
      "==================================\u001b[1m Ai Message \u001b[0m==================================\n",
      "\n",
      "您的名字是劉銓旭。\n",
      "StateSnapshot(values={'messages': [HumanMessage(content='我叫甚麼名字', additional_kwargs={}, response_metadata={}, id='2a7145c2-9652-4b45-bb68-571e9e8daa15'), AIMessage(content='我不知道您的名字。', additional_kwargs={}, response_metadata={'prompt_feedback': {'block_reason': 0, 'safety_ratings': []}, 'finish_reason': 'STOP', 'model_name': 'models/gemini-2.5-flash-preview-05-20', 'safety_ratings': []}, id='run--78f29183-bda5-47e5-bc1c-2e609810f6bb-0', usage_metadata={'input_tokens': 484, 'output_tokens': 5, 'total_tokens': 489, 'input_token_details': {'cache_read': 0}}), HumanMessage(content='我叫劉銓旭', additional_kwargs={}, response_metadata={}, id='ae972d62-ea62-4a37-bcb1-5f8d5d6600bd'), AIMessage(content='好的，劉銓旭，我會記住您的名字。很高興認識您！還有什麼我能為您服務的嗎？', additional_kwargs={}, response_metadata={'prompt_feedback': {'block_reason': 0, 'safety_ratings': []}, 'finish_reason': 'STOP', 'model_name': 'models/gemini-2.5-flash-preview-05-20', 'safety_ratings': []}, id='run--b184b43b-3313-45dc-ac5e-e42d7d1a7cc2-0', usage_metadata={'input_tokens': 496, 'output_tokens': 28, 'total_tokens': 524, 'input_token_details': {'cache_read': 0}}), HumanMessage(content='我叫甚麼名字', additional_kwargs={}, response_metadata={}, id='3b6355bd-1987-4981-b62f-ca3b1806acfd'), AIMessage(content='您的名字是劉銓旭。', additional_kwargs={}, response_metadata={'prompt_feedback': {'block_reason': 0, 'safety_ratings': []}, 'finish_reason': 'STOP', 'model_name': 'models/gemini-2.5-flash-preview-05-20', 'safety_ratings': []}, id='run--906ecbeb-c4ba-4123-aeb3-be9b72d442c6-0', usage_metadata={'input_tokens': 531, 'output_tokens': 7, 'total_tokens': 575, 'input_token_details': {'cache_read': 0}, 'output_token_details': {'reasoning': 37}})]}, next=(), config={'configurable': {'thread_id': '1', 'checkpoint_ns': '', 'checkpoint_id': '1f03c330-9763-6a5a-8007-af8bdea24e71'}}, metadata={'source': 'loop', 'writes': {'agent': {'messages': [AIMessage(content='您的名字是劉銓旭。', additional_kwargs={}, response_metadata={'prompt_feedback': {'block_reason': 0, 'safety_ratings': []}, 'finish_reason': 'STOP', 'model_name': 'models/gemini-2.5-flash-preview-05-20', 'safety_ratings': []}, id='run--906ecbeb-c4ba-4123-aeb3-be9b72d442c6-0', usage_metadata={'input_tokens': 531, 'output_tokens': 7, 'total_tokens': 575, 'input_token_details': {'cache_read': 0}, 'output_token_details': {'reasoning': 37}})]}}, 'step': 7, 'parents': {}, 'thread_id': '1'}, created_at='2025-05-29T02:17:14.822716+00:00', parent_config={'configurable': {'thread_id': '1', 'checkpoint_ns': '', 'checkpoint_id': '1f03c330-8f57-684e-8006-5ad9ed24737d'}}, tasks=(), interrupts=())\n"
     ]
    }
   ],
   "source": [
    "from langgraph.prebuilt import create_react_agent\n",
    "from langgraph.checkpoint.mongodb.aio import AsyncMongoDBSaver\n",
    "import time\n",
    "\n",
    "async with AsyncMongoDBSaver.from_conn_string(Mongo_url) as checkpointer:\n",
    "\t\n",
    "\tagent = create_react_agent(\n",
    "\t\tmodel = model,\n",
    "\t\ttools = tools,\n",
    "\t\tcheckpointer = checkpointer,\n",
    "\t\tprompt=\"\"\"當用戶請你幫忙解析影片時，請使用download(MCP tool)下載影片，\n",
    "\t\t\t\t當影片超過300秒(5分鐘)時使用audio_cut(MCP tool)依每5分鐘的長度分割成多個片段，\n",
    "\t\t\t\t再使用whisper_tool(MCP tool)產生字幕檔並根據回傳的文字進行影片內容解析，請用繁體中文回答，\n",
    "\t\t\t\t切記在使用MCP工具時一定要先詢問我並告知你預計傳入的參數\"\"\"\n",
    "\t)\n",
    "\n",
    "\tconfig = {\n",
    "\t\t\"configurable\": {\n",
    "\t\t\t\"thread_id\": \"1\"  \n",
    "\t\t}\n",
    "\t}\n",
    "\n",
    "\tasync def main():\n",
    "\t\twhile True:\n",
    "\t\t\tuser_input = input()\n",
    "\t\t\tif user_input == \"exit\":\n",
    "\t\t\t\treturn\n",
    "\t\t\tevents = agent.astream(\n",
    "\t\t\t\t{\"messages\": user_input},\n",
    "\t\t\t\tconfig,\n",
    "\t\t\t\tstream_mode = \"values\",\n",
    "\t\t\t)\n",
    "\t\t\toutput = []\n",
    "\t\t\tasync for event in events:\n",
    "\t\t\t\toutput.append(event[\"messages\"][-1].pretty_repr(True))\n",
    "\n",
    "\t\t\tfor line in output[-2:]:\n",
    "\t\t\t\tprint(line)\n",
    "\t\t\ttime.sleep(0.2)\n",
    "\n",
    "\tawait main()\n",
    "\n",
    "\tstate = await agent.aget_state(config)\n",
    "\tprint(state)\n",
    "\t# print(state.values[\"messages\"][-1].content)\n"
   ]
  },
  {
   "cell_type": "code",
   "execution_count": 10,
   "id": "710b602f",
   "metadata": {},
   "outputs": [],
   "source": [
    "# from pymongo import AsyncMongoClient\n",
    "# async def main():\n",
    "#     client = AsyncMongoClient(Mongo_url)\n",
    "#     try:\n",
    "#         await client.drop_database(\"checkpointing_db\")\n",
    "#     except Exception as e:\n",
    "#         raise Exception(\"Unable to find the document due to the following error: \", e)\n",
    "# await main()"
   ]
  }
 ],
 "metadata": {
  "kernelspec": {
   "display_name": ".venv",
   "language": "python",
   "name": "python3"
  },
  "language_info": {
   "codemirror_mode": {
    "name": "ipython",
    "version": 3
   },
   "file_extension": ".py",
   "mimetype": "text/x-python",
   "name": "python",
   "nbconvert_exporter": "python",
   "pygments_lexer": "ipython3",
   "version": "3.12.9"
  }
 },
 "nbformat": 4,
 "nbformat_minor": 5
}
