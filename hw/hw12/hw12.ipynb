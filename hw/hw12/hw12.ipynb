{
 "cells": [
  {
   "cell_type": "code",
   "execution_count": null,
   "id": "97684642",
   "metadata": {},
   "outputs": [],
   "source": [
    "import matplotlib.pyplot as plt\n",
    "from sklearn import datasets\n",
    "from sklearn.cluster import DBSCAN\n",
    "import numpy as np\n",
    "n = 300\n",
    "# X, y = datasets.make_blobs(n_samples=n, centers=4, cluster_std=0.60, random_state=0)\n",
    "# clustering = DBSCAN(eps=0.5, min_samples=3).fit(X) #blobs\n",
    "X, y = datasets.make_moons(n_samples=n, noise=0.1)\n",
    "clustering = DBSCAN(eps=0.15, min_samples=3).fit(X) #moons\n",
    "# X, y = datasets.make_circles(n_samples=n, noise=0.1, factor=0.5)\n",
    "# clustering = DBSCAN(eps=0.16, min_samples=2).fit(X) #circles\n",
    "# X, y = np.random.rand(n, 2), None\n",
    "# clustering = DBSCAN(eps=0.05, min_samples=2).fit(X) #random\n",
    "plt.scatter(X[:, 0], X[:, 1]) # , s=50\n",
    "plt.show()"
   ]
  },
  {
   "cell_type": "code",
   "execution_count": null,
   "id": "1df22a58",
   "metadata": {},
   "outputs": [],
   "source": [
    "unique_labels = set(clustering.labels_)\n",
    "core_samples_mask = np.zeros_like(clustering.labels_, dtype=bool)\n",
    "core_samples_mask[clustering.core_sample_indices_] = True\n",
    "\n",
    "colors = [plt.cm.Spectral(each) for each in np.linspace(0, 1, len(unique_labels))]\n",
    "for k, col in zip(unique_labels, colors):\n",
    "    if k == -1:\n",
    "        # Black used for noise.\n",
    "        col = [0, 0, 0, 1]\n",
    "\n",
    "    class_member_mask = clustering.labels_ == k\n",
    "\n",
    "    xy = X[class_member_mask & core_samples_mask]\n",
    "    plt.plot(\n",
    "        xy[:, 0],\n",
    "        xy[:, 1],\n",
    "        \"o\",\n",
    "        markerfacecolor=tuple(col),\n",
    "        markeredgecolor=\"k\",\n",
    "        markersize=14,\n",
    "    )\n",
    "\n",
    "    xy = X[class_member_mask & ~core_samples_mask]\n",
    "    plt.plot(\n",
    "        xy[:, 0],\n",
    "        xy[:, 1],\n",
    "        \"o\",\n",
    "        markerfacecolor=tuple(col),\n",
    "        markeredgecolor=\"k\",\n",
    "        markersize=6,\n",
    "    )\n",
    "    \n",
    "plt.show()"
   ]
  }
 ],
 "metadata": {
  "kernelspec": {
   "display_name": "myenv",
   "language": "python",
   "name": "python3"
  },
  "language_info": {
   "codemirror_mode": {
    "name": "ipython",
    "version": 3
   },
   "file_extension": ".py",
   "mimetype": "text/x-python",
   "name": "python",
   "nbconvert_exporter": "python",
   "pygments_lexer": "ipython3",
   "version": "3.10.11"
  }
 },
 "nbformat": 4,
 "nbformat_minor": 5
}
